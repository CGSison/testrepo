{
  "metadata": {
    "kernelspec": {
      "name": "python",
      "display_name": "Python (Pyodide)",
      "language": "python"
    },
    "language_info": {
      "codemirror_mode": {
        "name": "python",
        "version": 3
      },
      "file_extension": ".py",
      "mimetype": "text/x-python",
      "name": "python",
      "nbconvert_exporter": "python",
      "pygments_lexer": "ipython3",
      "version": "3.8"
    }
  },
  "nbformat_minor": 4,
  "nbformat": 4,
  "cells": [
    {
      "cell_type": "markdown",
      "source": "<h3> FINTRAC Data",
      "metadata": {}
    },
    {
      "cell_type": "code",
      "source": "import piplite\nawait piplite.install(['seaborn'])",
      "metadata": {
        "trusted": true
      },
      "outputs": [],
      "execution_count": 1
    },
    {
      "cell_type": "code",
      "source": "import pandas as pd\nimport numpy as np\nfrom datetime import datetime as dt\nimport matplotlib as mpl\nimport matplotlib.pyplot as plt\nimport seaborn as sns\nimport xlrd\n%matplotlib inline",
      "metadata": {
        "trusted": true
      },
      "outputs": [],
      "execution_count": 2
    },
    {
      "cell_type": "code",
      "source": "import math",
      "metadata": {
        "trusted": true
      },
      "outputs": [],
      "execution_count": 3
    },
    {
      "cell_type": "markdown",
      "source": "<h1> Load datasets",
      "metadata": {}
    },
    {
      "cell_type": "code",
      "source": "eft=pd.read_csv(\"raw_eft_data.csv\")\nfintrac=pd.read_csv(\"fintrac.csv\")\neft_sub=pd.read_csv(\"EFT_subset.csv\")",
      "metadata": {
        "trusted": true
      },
      "outputs": [],
      "execution_count": 4
    },
    {
      "cell_type": "code",
      "source": "fintrac['Tran Date']= pd.to_datetime(fintrac['Tran Date'])\nfintrac['Filing Date']= pd.to_datetime(fintrac['Filing Date'])\nfintrac['Month-Year']=fintrac['Tran Date'].dt.to_period('M').astype(str)\nfintrac['Client ID']=fintrac['Client ID'].astype('category')\neft[\"Tran Amt\"]=eft[\"TRANSACTION_AMOUNT\"].abs()",
      "metadata": {
        "trusted": true
      },
      "outputs": [],
      "execution_count": 5
    },
    {
      "cell_type": "code",
      "source": "fintrac['Report Type']",
      "metadata": {
        "trusted": true
      },
      "outputs": [
        {
          "execution_count": 7,
          "output_type": "execute_result",
          "data": {
            "text/plain": "0      EFTO\n1      EFTO\n2      EFTO\n3      EFTO\n4      EFTO\n       ... \n862    EFTI\n863    EFTI\n864    EFTI\n865    EFTI\n866    EFTO\nName: Report Type, Length: 867, dtype: object"
          },
          "metadata": {}
        }
      ],
      "execution_count": 7
    },
    {
      "cell_type": "code",
      "source": "pd.options.display.float_format='{:.0f}'.format\nfintrac.describe(exclude='number')\nfintrac.describe()",
      "metadata": {
        "trusted": true
      },
      "outputs": [
        {
          "name": "stderr",
          "text": "<ipython-input-23-0faf4fd9bed5>:2: FutureWarning: Treating datetime data as categorical rather than numeric in `.describe` is deprecated and will be removed in a future version of pandas. Specify `datetime_is_numeric=True` to silence this warning and adopt the future behavior now.\n  fintrac.describe(exclude='number')\n<ipython-input-23-0faf4fd9bed5>:2: FutureWarning: Treating datetime data as categorical rather than numeric in `.describe` is deprecated and will be removed in a future version of pandas. Specify `datetime_is_numeric=True` to silence this warning and adopt the future behavior now.\n  fintrac.describe(exclude='number')\n",
          "output_type": "stream"
        },
        {
          "execution_count": 23,
          "output_type": "execute_result",
          "data": {
            "text/plain": "       Tran Time  Tran Amt\ncount        867       867\nmean       70620     61978\nstd        70126    123821\nmin            0        97\n25%            0     13182\n50%       104232     21000\n75%       140025     50866\nmax       181000   1700000",
            "text/html": "<div>\n<style scoped>\n    .dataframe tbody tr th:only-of-type {\n        vertical-align: middle;\n    }\n\n    .dataframe tbody tr th {\n        vertical-align: top;\n    }\n\n    .dataframe thead th {\n        text-align: right;\n    }\n</style>\n<table border=\"1\" class=\"dataframe\">\n  <thead>\n    <tr style=\"text-align: right;\">\n      <th></th>\n      <th>Tran Time</th>\n      <th>Tran Amt</th>\n    </tr>\n  </thead>\n  <tbody>\n    <tr>\n      <th>count</th>\n      <td>867</td>\n      <td>867</td>\n    </tr>\n    <tr>\n      <th>mean</th>\n      <td>70620</td>\n      <td>61978</td>\n    </tr>\n    <tr>\n      <th>std</th>\n      <td>70126</td>\n      <td>123821</td>\n    </tr>\n    <tr>\n      <th>min</th>\n      <td>0</td>\n      <td>97</td>\n    </tr>\n    <tr>\n      <th>25%</th>\n      <td>0</td>\n      <td>13182</td>\n    </tr>\n    <tr>\n      <th>50%</th>\n      <td>104232</td>\n      <td>21000</td>\n    </tr>\n    <tr>\n      <th>75%</th>\n      <td>140025</td>\n      <td>50866</td>\n    </tr>\n    <tr>\n      <th>max</th>\n      <td>181000</td>\n      <td>1700000</td>\n    </tr>\n  </tbody>\n</table>\n</div>"
          },
          "metadata": {}
        }
      ],
      "execution_count": 23
    },
    {
      "cell_type": "markdown",
      "source": "<h2> Transaction Amount and Count",
      "metadata": {}
    },
    {
      "cell_type": "code",
      "source": "sns.histplot(fintrac['Tran Amt'],log_scale=True,color=\"green\")\nplt.show()",
      "metadata": {
        "trusted": true
      },
      "outputs": [
        {
          "output_type": "display_data",
          "data": {
            "text/plain": "<Figure size 640x480 with 1 Axes>",
            "image/png": "[encoded data removed]"
          },
          "metadata": {}
        }
      ],
      "execution_count": 43
    },
    {
      "cell_type": "code",
      "source": "fintrac.describe(include='all')",
      "metadata": {
        "trusted": true
      },
      "outputs": [
        {
          "execution_count": 17,
          "output_type": "execute_result",
          "data": {
            "text/plain": "                  Report Ref Filing Date Report Type   Tran Date  \\\ncount                    867         867         867         867   \nunique                   867         234           2         270   \ntop     EFTO2019080100001001  2020-03-27        EFTO  2020-02-04   \nfreq                       1          14         469           8   \nmean                     NaN         NaN         NaN         NaN   \nstd                      NaN         NaN         NaN         NaN   \nmin                      NaN         NaN         NaN         NaN   \n25%                      NaN         NaN         NaN         NaN   \n50%                      NaN         NaN         NaN         NaN   \n75%                      NaN         NaN         NaN         NaN   \nmax                      NaN         NaN         NaN         NaN   \n\n            Tran Time      Tran Amt Tran Cur     Client ID  \ncount      867.000000  8.670000e+02      867  8.670000e+02  \nunique            NaN           NaN        2           NaN  \ntop               NaN           NaN      CAD           NaN  \nfreq              NaN           NaN      787           NaN  \nmean     70620.324106  6.197839e+04      NaN  2.730837e+06  \nstd      70125.958665  1.238207e+05      NaN  3.455560e+05  \nmin          0.000000  9.700000e+01      NaN  2.003886e+06  \n25%          0.000000  1.318250e+04      NaN  2.461033e+06  \n50%     104232.000000  2.100000e+04      NaN  2.699291e+06  \n75%     140025.000000  5.086550e+04      NaN  3.069741e+06  \nmax     181000.000000  1.700000e+06      NaN  3.301970e+06  ",
            "text/html": "<div>\n<style scoped>\n    .dataframe tbody tr th:only-of-type {\n        vertical-align: middle;\n    }\n\n    .dataframe tbody tr th {\n        vertical-align: top;\n    }\n\n    .dataframe thead th {\n        text-align: right;\n    }\n</style>\n<table border=\"1\" class=\"dataframe\">\n  <thead>\n    <tr style=\"text-align: right;\">\n      <th></th>\n      <th>Report Ref</th>\n      <th>Filing Date</th>\n      <th>Report Type</th>\n      <th>Tran Date</th>\n      <th>Tran Time</th>\n      <th>Tran Amt</th>\n      <th>Tran Cur</th>\n      <th>Client ID</th>\n    </tr>\n  </thead>\n  <tbody>\n    <tr>\n      <th>count</th>\n      <td>867</td>\n      <td>867</td>\n      <td>867</td>\n      <td>867</td>\n      <td>867.000000</td>\n      <td>8.670000e+02</td>\n      <td>867</td>\n      <td>8.670000e+02</td>\n    </tr>\n    <tr>\n      <th>unique</th>\n      <td>867</td>\n      <td>234</td>\n      <td>2</td>\n      <td>270</td>\n      <td>NaN</td>\n      <td>NaN</td>\n      <td>2</td>\n      <td>NaN</td>\n    </tr>\n    <tr>\n      <th>top</th>\n      <td>EFTO2019080100001001</td>\n      <td>2020-03-27</td>\n      <td>EFTO</td>\n      <td>2020-02-04</td>\n      <td>NaN</td>\n      <td>NaN</td>\n      <td>CAD</td>\n      <td>NaN</td>\n    </tr>\n    <tr>\n      <th>freq</th>\n      <td>1</td>\n      <td>14</td>\n      <td>469</td>\n      <td>8</td>\n      <td>NaN</td>\n      <td>NaN</td>\n      <td>787</td>\n      <td>NaN</td>\n    </tr>\n    <tr>\n      <th>mean</th>\n      <td>NaN</td>\n      <td>NaN</td>\n      <td>NaN</td>\n      <td>NaN</td>\n      <td>70620.324106</td>\n      <td>6.197839e+04</td>\n      <td>NaN</td>\n      <td>2.730837e+06</td>\n    </tr>\n    <tr>\n      <th>std</th>\n      <td>NaN</td>\n      <td>NaN</td>\n      <td>NaN</td>\n      <td>NaN</td>\n      <td>70125.958665</td>\n      <td>1.238207e+05</td>\n      <td>NaN</td>\n      <td>3.455560e+05</td>\n    </tr>\n    <tr>\n      <th>min</th>\n      <td>NaN</td>\n      <td>NaN</td>\n      <td>NaN</td>\n      <td>NaN</td>\n      <td>0.000000</td>\n      <td>9.700000e+01</td>\n      <td>NaN</td>\n      <td>2.003886e+06</td>\n    </tr>\n    <tr>\n      <th>25%</th>\n      <td>NaN</td>\n      <td>NaN</td>\n      <td>NaN</td>\n      <td>NaN</td>\n      <td>0.000000</td>\n      <td>1.318250e+04</td>\n      <td>NaN</td>\n      <td>2.461033e+06</td>\n    </tr>\n    <tr>\n      <th>50%</th>\n      <td>NaN</td>\n      <td>NaN</td>\n      <td>NaN</td>\n      <td>NaN</td>\n      <td>104232.000000</td>\n      <td>2.100000e+04</td>\n      <td>NaN</td>\n      <td>2.699291e+06</td>\n    </tr>\n    <tr>\n      <th>75%</th>\n      <td>NaN</td>\n      <td>NaN</td>\n      <td>NaN</td>\n      <td>NaN</td>\n      <td>140025.000000</td>\n      <td>5.086550e+04</td>\n      <td>NaN</td>\n      <td>3.069741e+06</td>\n    </tr>\n    <tr>\n      <th>max</th>\n      <td>NaN</td>\n      <td>NaN</td>\n      <td>NaN</td>\n      <td>NaN</td>\n      <td>181000.000000</td>\n      <td>1.700000e+06</td>\n      <td>NaN</td>\n      <td>3.301970e+06</td>\n    </tr>\n  </tbody>\n</table>\n</div>"
          },
          "metadata": {}
        }
      ],
      "execution_count": 17
    },
    {
      "cell_type": "code",
      "source": "#Check for missing values\nfintrac.isnull().sum()/len(fintrac)*100",
      "metadata": {
        "trusted": true
      },
      "outputs": [
        {
          "execution_count": 15,
          "output_type": "execute_result",
          "data": {
            "text/plain": "Report Ref     0.0\nFiling Date    0.0\nReport Type    0.0\nTran Date      0.0\nTran Time      0.0\nTran Amt       0.0\nTran Cur       0.0\nClient ID      0.0\ndtype: float64"
          },
          "metadata": {}
        }
      ],
      "execution_count": 15
    },
    {
      "cell_type": "code",
      "source": "#check for duplicate rows\nfintrac.duplicated().sum()",
      "metadata": {
        "trusted": true
      },
      "outputs": [
        {
          "execution_count": 16,
          "output_type": "execute_result",
          "data": {
            "text/plain": "0"
          },
          "metadata": {}
        }
      ],
      "execution_count": 16
    },
    {
      "cell_type": "code",
      "source": "fintrac.head()",
      "metadata": {
        "trusted": true
      },
      "outputs": [
        {
          "execution_count": 18,
          "output_type": "execute_result",
          "data": {
            "text/plain": "             Report Ref Filing Date Report Type   Tran Date  Tran Time  \\\n0  EFTO2019080100001001  2019-08-01        EFTO  2019-07-30     153443   \n1  EFTO2019080100001002  2019-08-01        EFTO  2019-07-30     153443   \n2  EFTO2019080100001003  2019-08-01        EFTO  2019-07-31     132351   \n3  EFTO2019080200001001  2019-08-02        EFTO  2019-08-01     154452   \n4  EFTO2019080600001001  2019-08-06        EFTO  2019-08-02     134746   \n\n   Tran Amt Tran Cur  Client ID  \n0   28000.0      CAD    2286141  \n1   10000.0      CAD    2456977  \n2   23690.0      USD    3182054  \n3   20000.0      CAD    3193091  \n4   33436.0      CAD    2911297  ",
            "text/html": "<div>\n<style scoped>\n    .dataframe tbody tr th:only-of-type {\n        vertical-align: middle;\n    }\n\n    .dataframe tbody tr th {\n        vertical-align: top;\n    }\n\n    .dataframe thead th {\n        text-align: right;\n    }\n</style>\n<table border=\"1\" class=\"dataframe\">\n  <thead>\n    <tr style=\"text-align: right;\">\n      <th></th>\n      <th>Report Ref</th>\n      <th>Filing Date</th>\n      <th>Report Type</th>\n      <th>Tran Date</th>\n      <th>Tran Time</th>\n      <th>Tran Amt</th>\n      <th>Tran Cur</th>\n      <th>Client ID</th>\n    </tr>\n  </thead>\n  <tbody>\n    <tr>\n      <th>0</th>\n      <td>EFTO2019080100001001</td>\n      <td>2019-08-01</td>\n      <td>EFTO</td>\n      <td>2019-07-30</td>\n      <td>153443</td>\n      <td>28000.0</td>\n      <td>CAD</td>\n      <td>2286141</td>\n    </tr>\n    <tr>\n      <th>1</th>\n      <td>EFTO2019080100001002</td>\n      <td>2019-08-01</td>\n      <td>EFTO</td>\n      <td>2019-07-30</td>\n      <td>153443</td>\n      <td>10000.0</td>\n      <td>CAD</td>\n      <td>2456977</td>\n    </tr>\n    <tr>\n      <th>2</th>\n      <td>EFTO2019080100001003</td>\n      <td>2019-08-01</td>\n      <td>EFTO</td>\n      <td>2019-07-31</td>\n      <td>132351</td>\n      <td>23690.0</td>\n      <td>USD</td>\n      <td>3182054</td>\n    </tr>\n    <tr>\n      <th>3</th>\n      <td>EFTO2019080200001001</td>\n      <td>2019-08-02</td>\n      <td>EFTO</td>\n      <td>2019-08-01</td>\n      <td>154452</td>\n      <td>20000.0</td>\n      <td>CAD</td>\n      <td>3193091</td>\n    </tr>\n    <tr>\n      <th>4</th>\n      <td>EFTO2019080600001001</td>\n      <td>2019-08-06</td>\n      <td>EFTO</td>\n      <td>2019-08-02</td>\n      <td>134746</td>\n      <td>33436.0</td>\n      <td>CAD</td>\n      <td>2911297</td>\n    </tr>\n  </tbody>\n</table>\n</div>"
          },
          "metadata": {}
        }
      ],
      "execution_count": 18
    },
    {
      "cell_type": "markdown",
      "source": "<h2> Number of Transactions",
      "metadata": {}
    },
    {
      "cell_type": "code",
      "source": "monthly_count=fintrac.groupby(['Month-Year'])['Tran Amt'].count().reset_index()\nplt.xticks(rotation=70)\nplt.plot(monthly_count['Month-Year'],monthly_count['Tran Amt'],color=\"green\")\nplt.xlabel(\"Date\")\nplt.ylabel(\"Number of Transactions per Month\")",
      "metadata": {
        "trusted": true
      },
      "outputs": [
        {
          "execution_count": 10,
          "output_type": "execute_result",
          "data": {
            "text/plain": "Text(0, 0.5, 'Number of Transactions per Month')"
          },
          "metadata": {}
        },
        {
          "output_type": "display_data",
          "data": {
            "text/plain": "<Figure size 640x480 with 1 Axes>",
            "image/png": "[encoded data removed]"
          },
          "metadata": {}
        }
      ],
      "execution_count": 10
    },
    {
      "cell_type": "markdown",
      "source": "<h1> Top Clients",
      "metadata": {}
    },
    {
      "cell_type": "code",
      "source": "#amount per client\ntopcustomer_amt=fintrac.groupby('Client ID')['Tran Amt'].sum().sort_values(ascending=False).reset_index()\ntopcustomer_amt_rank=topcustomer_amt.head(10)\ndf=topcustomer_amt_rank",
      "metadata": {
        "trusted": true
      },
      "outputs": [],
      "execution_count": 8
    },
    {
      "cell_type": "code",
      "source": "df.tail()",
      "metadata": {
        "trusted": true
      },
      "outputs": [
        {
          "execution_count": 10,
          "output_type": "execute_result",
          "data": {
            "text/plain": "  Client ID   Tran Amt\n5   3213778  873301.00\n6   3029080  847210.00\n7   2900653  726942.67\n8   3137306  650000.00\n9   2699291  648528.49",
            "text/html": "<div>\n<style scoped>\n    .dataframe tbody tr th:only-of-type {\n        vertical-align: middle;\n    }\n\n    .dataframe tbody tr th {\n        vertical-align: top;\n    }\n\n    .dataframe thead th {\n        text-align: right;\n    }\n</style>\n<table border=\"1\" class=\"dataframe\">\n  <thead>\n    <tr style=\"text-align: right;\">\n      <th></th>\n      <th>Client ID</th>\n      <th>Tran Amt</th>\n    </tr>\n  </thead>\n  <tbody>\n    <tr>\n      <th>5</th>\n      <td>3213778</td>\n      <td>873301.00</td>\n    </tr>\n    <tr>\n      <th>6</th>\n      <td>3029080</td>\n      <td>847210.00</td>\n    </tr>\n    <tr>\n      <th>7</th>\n      <td>2900653</td>\n      <td>726942.67</td>\n    </tr>\n    <tr>\n      <th>8</th>\n      <td>3137306</td>\n      <td>650000.00</td>\n    </tr>\n    <tr>\n      <th>9</th>\n      <td>2699291</td>\n      <td>648528.49</td>\n    </tr>\n  </tbody>\n</table>\n</div>"
          },
          "metadata": {}
        }
      ],
      "execution_count": 10
    },
    {
      "cell_type": "code",
      "source": "sns.barplot(x=\"Tran Amt\",y=\"Client ID\",data=df,order=df['Client ID'],orient='h',color=\"green\")\nplt.xlabel(\"TRANSACTION AMOUNT\")\nplt.ylabel(\"Client ID\")\nplt.show()",
      "metadata": {
        "trusted": true
      },
      "outputs": [
        {
          "output_type": "display_data",
          "data": {
            "text/plain": "<Figure size 640x480 with 1 Axes>",
            "image/png": "[encoded data removed]"
          },
          "metadata": {}
        }
      ],
      "execution_count": 37
    },
    {
      "cell_type": "markdown",
      "source": "<h3> Find client IDs from FINTRAC that are not in EFT data",
      "metadata": {}
    },
    {
      "cell_type": "code",
      "source": "id=list(pd.unique(eft['CIF']))\nlen(id)\nfintrac.info()",
      "metadata": {
        "trusted": true
      },
      "outputs": [
        {
          "name": "stdout",
          "text": "<class 'pandas.core.frame.DataFrame'>\nRangeIndex: 867 entries, 0 to 866\nData columns (total 10 columns):\n #   Column          Non-Null Count  Dtype         \n---  ------          --------------  -----         \n 0   Report Ref      867 non-null    object        \n 1   Filing Date     867 non-null    datetime64[ns]\n 2   Report Type     867 non-null    object        \n 3   Tran Date       867 non-null    object        \n 4   Tran Time       867 non-null    int64         \n 5   Tran Amt        867 non-null    float64       \n 6   Tran Cur        867 non-null    object        \n 7   Client ID       867 non-null    category      \n 8   Month-Year      867 non-null    object        \n 9   Tran Amt_round  867 non-null    int64         \ndtypes: category(1), datetime64[ns](1), float64(1), int64(2), object(5)\nmemory usage: 61.8+ KB\n",
          "output_type": "stream"
        }
      ],
      "execution_count": 15
    },
    {
      "cell_type": "code",
      "source": "fintrac_id=fintrac[~fintrac[\"Client ID\"].isin(id)]",
      "metadata": {
        "trusted": true
      },
      "outputs": [],
      "execution_count": 19
    },
    {
      "cell_type": "code",
      "source": "fintrac_id=pd.unique(fintrac_id['Client ID'])\nfintrac_id=pd.DataFrame(data={'Client ID_1':fintrac_id[:6],'Client ID_2':fintrac_id[6:12],'Client ID_3':fintrac_id[12:]})",
      "metadata": {
        "trusted": true
      },
      "outputs": [],
      "execution_count": 20
    },
    {
      "cell_type": "code",
      "source": "fintrac_id=fintrac[~fintrac[\"Client ID\"].isin(id)]",
      "metadata": {
        "trusted": true
      },
      "outputs": [],
      "execution_count": 22
    },
    {
      "cell_type": "markdown",
      "source": "<h3> Find matching client IDs,but with unmatching AMOUNT from FINTRAC that are not in EFT data",
      "metadata": {}
    },
    {
      "cell_type": "code",
      "source": "fintrac1=fintrac[fintrac[\"Client ID\"].isin(id)]\nlen(fintrac1)==len(fintrac)-len(fintrac_id)",
      "metadata": {
        "trusted": true
      },
      "outputs": [
        {
          "execution_count": 23,
          "output_type": "execute_result",
          "data": {
            "text/plain": "True"
          },
          "metadata": {}
        }
      ],
      "execution_count": 23
    },
    {
      "cell_type": "code",
      "source": "fintrac_amt=fintrac1[~fintrac1['Tran Amt'].isin(eft['Tran Amt'])]",
      "metadata": {
        "trusted": true
      },
      "outputs": [],
      "execution_count": 24
    },
    {
      "cell_type": "code",
      "source": "fintrac_amt[fintrac_amt['Client ID']==2702904]",
      "metadata": {
        "trusted": true
      },
      "outputs": [
        {
          "execution_count": 128,
          "output_type": "execute_result",
          "data": {
            "text/plain": "               Report Ref Filing Date Report Type  Tran Date  Tran Time  \\\n550  EFTI2020040700001001  2020-04-07        EFTI  03-Apr-20          0   \n\n     Tran Amt Tran Cur  Client ID Month-Year  \n550   54740.0      CAD    2702904    2020-04  ",
            "text/html": "<div>\n<style scoped>\n    .dataframe tbody tr th:only-of-type {\n        vertical-align: middle;\n    }\n\n    .dataframe tbody tr th {\n        vertical-align: top;\n    }\n\n    .dataframe thead th {\n        text-align: right;\n    }\n</style>\n<table border=\"1\" class=\"dataframe\">\n  <thead>\n    <tr style=\"text-align: right;\">\n      <th></th>\n      <th>Report Ref</th>\n      <th>Filing Date</th>\n      <th>Report Type</th>\n      <th>Tran Date</th>\n      <th>Tran Time</th>\n      <th>Tran Amt</th>\n      <th>Tran Cur</th>\n      <th>Client ID</th>\n      <th>Month-Year</th>\n    </tr>\n  </thead>\n  <tbody>\n    <tr>\n      <th>550</th>\n      <td>EFTI2020040700001001</td>\n      <td>2020-04-07</td>\n      <td>EFTI</td>\n      <td>03-Apr-20</td>\n      <td>0</td>\n      <td>54740.0</td>\n      <td>CAD</td>\n      <td>2702904</td>\n      <td>2020-04</td>\n    </tr>\n  </tbody>\n</table>\n</div>"
          },
          "metadata": {}
        }
      ],
      "execution_count": 128
    },
    {
      "cell_type": "code",
      "source": "eft[eft['CIF']==2702904]",
      "metadata": {
        "trusted": true
      },
      "outputs": [
        {
          "execution_count": 127,
          "output_type": "execute_result",
          "data": {
            "text/plain": "           CIF EFFECTIVE_DATE  TRANSACTION_AMOUNT TRANSACTION_CODE  \\\n73554  2702904       3-Apr-20            54739.53               CM   \n76336  2702904       1-Apr-20           130536.13               CM   \n\n      TRANSACTION_DECRIPTION  TIME_SEQ   Tran Amt  \n73554     International Wire  11:49:54   54739.53  \n76336     International Wire  11:03:58  130536.13  ",
            "text/html": "<div>\n<style scoped>\n    .dataframe tbody tr th:only-of-type {\n        vertical-align: middle;\n    }\n\n    .dataframe tbody tr th {\n        vertical-align: top;\n    }\n\n    .dataframe thead th {\n        text-align: right;\n    }\n</style>\n<table border=\"1\" class=\"dataframe\">\n  <thead>\n    <tr style=\"text-align: right;\">\n      <th></th>\n      <th>CIF</th>\n      <th>EFFECTIVE_DATE</th>\n      <th>TRANSACTION_AMOUNT</th>\n      <th>TRANSACTION_CODE</th>\n      <th>TRANSACTION_DECRIPTION</th>\n      <th>TIME_SEQ</th>\n      <th>Tran Amt</th>\n    </tr>\n  </thead>\n  <tbody>\n    <tr>\n      <th>73554</th>\n      <td>2702904</td>\n      <td>3-Apr-20</td>\n      <td>54739.53</td>\n      <td>CM</td>\n      <td>International Wire</td>\n      <td>11:49:54</td>\n      <td>54739.53</td>\n    </tr>\n    <tr>\n      <th>76336</th>\n      <td>2702904</td>\n      <td>1-Apr-20</td>\n      <td>130536.13</td>\n      <td>CM</td>\n      <td>International Wire</td>\n      <td>11:03:58</td>\n      <td>130536.13</td>\n    </tr>\n  </tbody>\n</table>\n</div>"
          },
          "metadata": {}
        }
      ],
      "execution_count": 127
    },
    {
      "cell_type": "code",
      "source": "eft['Tran Amt_round']=eft['Tran Amt'].apply(math.ceil)\nfintrac_amt_approx=(fintrac1['Tran Amt'].isin(eft['Tran Amt_round'])|\n                     fintrac1['Tran Amt'].isin(eft['Tran Amt']))",
      "metadata": {
        "trusted": true
      },
      "outputs": [
        {
          "ename": "<class 'NameError'>",
          "evalue": "name 'fintrac1' is not defined",
          "traceback": [
            "\u001b[0;31m---------------------------------------------------------------------------\u001b[0m",
            "\u001b[0;31mNameError\u001b[0m                                 Traceback (most recent call last)",
            "Cell \u001b[0;32mIn[9], line 2\u001b[0m\n\u001b[1;32m      1\u001b[0m eft[\u001b[38;5;124m'\u001b[39m\u001b[38;5;124mTran Amt_round\u001b[39m\u001b[38;5;124m'\u001b[39m]\u001b[38;5;241m=\u001b[39meft[\u001b[38;5;124m'\u001b[39m\u001b[38;5;124mTran Amt\u001b[39m\u001b[38;5;124m'\u001b[39m]\u001b[38;5;241m.\u001b[39mapply(math\u001b[38;5;241m.\u001b[39mceil)\n\u001b[0;32m----> 2\u001b[0m fintrac_amt_approx\u001b[38;5;241m=\u001b[39m(\u001b[43mfintrac1\u001b[49m[\u001b[38;5;124m'\u001b[39m\u001b[38;5;124mTran Amt\u001b[39m\u001b[38;5;124m'\u001b[39m]\u001b[38;5;241m.\u001b[39misin(eft[\u001b[38;5;124m'\u001b[39m\u001b[38;5;124mTran Amt_round\u001b[39m\u001b[38;5;124m'\u001b[39m])\u001b[38;5;241m|\u001b[39m\n\u001b[1;32m      3\u001b[0m                      fintrac1[\u001b[38;5;124m'\u001b[39m\u001b[38;5;124mTran Amt\u001b[39m\u001b[38;5;124m'\u001b[39m]\u001b[38;5;241m.\u001b[39misin(eft[\u001b[38;5;124m'\u001b[39m\u001b[38;5;124mTran Amt\u001b[39m\u001b[38;5;124m'\u001b[39m]))\n",
            "\u001b[0;31mNameError\u001b[0m: name 'fintrac1' is not defined"
          ],
          "output_type": "error"
        }
      ],
      "execution_count": 9
    },
    {
      "cell_type": "code",
      "source": "fintrac1=fintrac1[~fintrac_amt_approx]\nlen(fintrac1)",
      "metadata": {
        "trusted": true
      },
      "outputs": [
        {
          "execution_count": 181,
          "output_type": "execute_result",
          "data": {
            "text/plain": "44"
          },
          "metadata": {}
        }
      ],
      "execution_count": 181
    },
    {
      "cell_type": "code",
      "source": "fintrac1.tail()",
      "metadata": {
        "trusted": true
      },
      "outputs": [
        {
          "execution_count": 182,
          "output_type": "execute_result",
          "data": {
            "text/plain": "               Report Ref Filing Date Report Type  Tran Date  Tran Time  \\\n84   EFTO2019092600001001  2019-09-26        EFTO  20-Sep-19     153712   \n87   EFTO2019092700001001  2019-09-27        EFTO  23-Sep-19     153911   \n91   EFTI2019100100002001  2019-10-01        EFTI  24-Sep-19          0   \n92   EFTI2019100100002002  2019-10-01        EFTI  24-Sep-19          0   \n467  EFTO2020030200001004  2020-03-02        EFTO  28-Feb-20     133643   \n\n     Tran Amt Tran Cur  Client ID Month-Year  \n84   164935.0      CAD    2563643    2019-09  \n87   429128.0      CAD    2256224    2019-09  \n91     9910.0      CAD    2764790    2019-09  \n92     7567.0      CAD    2764790    2019-09  \n467   61370.0      CAD    2052532    2020-02  ",
            "text/html": "<div>\n<style scoped>\n    .dataframe tbody tr th:only-of-type {\n        vertical-align: middle;\n    }\n\n    .dataframe tbody tr th {\n        vertical-align: top;\n    }\n\n    .dataframe thead th {\n        text-align: right;\n    }\n</style>\n<table border=\"1\" class=\"dataframe\">\n  <thead>\n    <tr style=\"text-align: right;\">\n      <th></th>\n      <th>Report Ref</th>\n      <th>Filing Date</th>\n      <th>Report Type</th>\n      <th>Tran Date</th>\n      <th>Tran Time</th>\n      <th>Tran Amt</th>\n      <th>Tran Cur</th>\n      <th>Client ID</th>\n      <th>Month-Year</th>\n    </tr>\n  </thead>\n  <tbody>\n    <tr>\n      <th>84</th>\n      <td>EFTO2019092600001001</td>\n      <td>2019-09-26</td>\n      <td>EFTO</td>\n      <td>20-Sep-19</td>\n      <td>153712</td>\n      <td>164935.0</td>\n      <td>CAD</td>\n      <td>2563643</td>\n      <td>2019-09</td>\n    </tr>\n    <tr>\n      <th>87</th>\n      <td>EFTO2019092700001001</td>\n      <td>2019-09-27</td>\n      <td>EFTO</td>\n      <td>23-Sep-19</td>\n      <td>153911</td>\n      <td>429128.0</td>\n      <td>CAD</td>\n      <td>2256224</td>\n      <td>2019-09</td>\n    </tr>\n    <tr>\n      <th>91</th>\n      <td>EFTI2019100100002001</td>\n      <td>2019-10-01</td>\n      <td>EFTI</td>\n      <td>24-Sep-19</td>\n      <td>0</td>\n      <td>9910.0</td>\n      <td>CAD</td>\n      <td>2764790</td>\n      <td>2019-09</td>\n    </tr>\n    <tr>\n      <th>92</th>\n      <td>EFTI2019100100002002</td>\n      <td>2019-10-01</td>\n      <td>EFTI</td>\n      <td>24-Sep-19</td>\n      <td>0</td>\n      <td>7567.0</td>\n      <td>CAD</td>\n      <td>2764790</td>\n      <td>2019-09</td>\n    </tr>\n    <tr>\n      <th>467</th>\n      <td>EFTO2020030200001004</td>\n      <td>2020-03-02</td>\n      <td>EFTO</td>\n      <td>28-Feb-20</td>\n      <td>133643</td>\n      <td>61370.0</td>\n      <td>CAD</td>\n      <td>2052532</td>\n      <td>2020-02</td>\n    </tr>\n  </tbody>\n</table>\n</div>"
          },
          "metadata": {}
        }
      ],
      "execution_count": 182
    },
    {
      "cell_type": "code",
      "source": "fintrac1[fintrac1['Client ID']==2563643]",
      "metadata": {
        "trusted": true,
        "scrolled": true
      },
      "outputs": [
        {
          "execution_count": 187,
          "output_type": "execute_result",
          "data": {
            "text/plain": "              Report Ref Filing Date Report Type  Tran Date  Tran Time  \\\n84  EFTO2019092600001001  2019-09-26        EFTO  20-Sep-19     153712   \n\n    Tran Amt Tran Cur  Client ID Month-Year  \n84  164935.0      CAD    2563643    2019-09  ",
            "text/html": "<div>\n<style scoped>\n    .dataframe tbody tr th:only-of-type {\n        vertical-align: middle;\n    }\n\n    .dataframe tbody tr th {\n        vertical-align: top;\n    }\n\n    .dataframe thead th {\n        text-align: right;\n    }\n</style>\n<table border=\"1\" class=\"dataframe\">\n  <thead>\n    <tr style=\"text-align: right;\">\n      <th></th>\n      <th>Report Ref</th>\n      <th>Filing Date</th>\n      <th>Report Type</th>\n      <th>Tran Date</th>\n      <th>Tran Time</th>\n      <th>Tran Amt</th>\n      <th>Tran Cur</th>\n      <th>Client ID</th>\n      <th>Month-Year</th>\n    </tr>\n  </thead>\n  <tbody>\n    <tr>\n      <th>84</th>\n      <td>EFTO2019092600001001</td>\n      <td>2019-09-26</td>\n      <td>EFTO</td>\n      <td>20-Sep-19</td>\n      <td>153712</td>\n      <td>164935.0</td>\n      <td>CAD</td>\n      <td>2563643</td>\n      <td>2019-09</td>\n    </tr>\n  </tbody>\n</table>\n</div>"
          },
          "metadata": {}
        }
      ],
      "execution_count": 187
    },
    {
      "cell_type": "code",
      "source": "eft[eft['CIF']==2563643]",
      "metadata": {
        "trusted": true
      },
      "outputs": [
        {
          "execution_count": 186,
          "output_type": "execute_result",
          "data": {
            "text/plain": "           CIF EFFECTIVE_DATE  TRANSACTION_AMOUNT TRANSACTION_CODE  \\\n23565  2563643      25-Nov-19            -2800.00               DM   \n41370  2563643      13-Jan-20           -14736.73               DM   \n\n      TRANSACTION_DECRIPTION  TIME_SEQ  Tran Amt  Tran Amt_round  \n23565          Returned Item  14:21:01   2800.00            2800  \n41370    Funds Wired to/from  11:30:10  14736.73           14737  ",
            "text/html": "<div>\n<style scoped>\n    .dataframe tbody tr th:only-of-type {\n        vertical-align: middle;\n    }\n\n    .dataframe tbody tr th {\n        vertical-align: top;\n    }\n\n    .dataframe thead th {\n        text-align: right;\n    }\n</style>\n<table border=\"1\" class=\"dataframe\">\n  <thead>\n    <tr style=\"text-align: right;\">\n      <th></th>\n      <th>CIF</th>\n      <th>EFFECTIVE_DATE</th>\n      <th>TRANSACTION_AMOUNT</th>\n      <th>TRANSACTION_CODE</th>\n      <th>TRANSACTION_DECRIPTION</th>\n      <th>TIME_SEQ</th>\n      <th>Tran Amt</th>\n      <th>Tran Amt_round</th>\n    </tr>\n  </thead>\n  <tbody>\n    <tr>\n      <th>23565</th>\n      <td>2563643</td>\n      <td>25-Nov-19</td>\n      <td>-2800.00</td>\n      <td>DM</td>\n      <td>Returned Item</td>\n      <td>14:21:01</td>\n      <td>2800.00</td>\n      <td>2800</td>\n    </tr>\n    <tr>\n      <th>41370</th>\n      <td>2563643</td>\n      <td>13-Jan-20</td>\n      <td>-14736.73</td>\n      <td>DM</td>\n      <td>Funds Wired to/from</td>\n      <td>11:30:10</td>\n      <td>14736.73</td>\n      <td>14737</td>\n    </tr>\n  </tbody>\n</table>\n</div>"
          },
          "metadata": {}
        }
      ],
      "execution_count": 186
    },
    {
      "cell_type": "markdown",
      "source": "<h2> Find number of unmatching dates",
      "metadata": {}
    },
    {
      "cell_type": "code",
      "source": "fintrac['Tran Date']=pd.to_datetime(fintrac['Tran Date']).apply(lambda x: x.strftime('%d-%b-%y'))\neft_date=list(eft['EFFECTIVE_DATE'])\nfintrac_time=fintrac1[~fintrac1['Tran Date'].isin(eft_date)]\nfintrac_time.head()",
      "metadata": {
        "trusted": true
      },
      "outputs": [
        {
          "execution_count": 25,
          "output_type": "execute_result",
          "data": {
            "text/plain": "             Report Ref Filing Date Report Type  Tran Date  Tran Time  \\\n1  EFTO2019080100001002  2019-08-01        EFTO  30-Jul-19     153443   \n2  EFTO2019080100001003  2019-08-01        EFTO  31-Jul-19     132351   \n3  EFTO2019080200001001  2019-08-02        EFTO  01-Aug-19     154452   \n4  EFTO2019080600001001  2019-08-06        EFTO  02-Aug-19     134746   \n5  EFTO2019080600001002  2019-08-06        EFTO  02-Aug-19     135350   \n\n   Tran Amt Tran Cur Client ID Month-Year  Tran Amt_round  \n1   10000.0      CAD   2456977    2019-07           10000  \n2   23690.0      USD   3182054    2019-07           23690  \n3   20000.0      CAD   3193091    2019-08           20000  \n4   33436.0      CAD   2911297    2019-08           33436  \n5   22000.0      CAD   2621260    2019-08           22000  ",
            "text/html": "<div>\n<style scoped>\n    .dataframe tbody tr th:only-of-type {\n        vertical-align: middle;\n    }\n\n    .dataframe tbody tr th {\n        vertical-align: top;\n    }\n\n    .dataframe thead th {\n        text-align: right;\n    }\n</style>\n<table border=\"1\" class=\"dataframe\">\n  <thead>\n    <tr style=\"text-align: right;\">\n      <th></th>\n      <th>Report Ref</th>\n      <th>Filing Date</th>\n      <th>Report Type</th>\n      <th>Tran Date</th>\n      <th>Tran Time</th>\n      <th>Tran Amt</th>\n      <th>Tran Cur</th>\n      <th>Client ID</th>\n      <th>Month-Year</th>\n      <th>Tran Amt_round</th>\n    </tr>\n  </thead>\n  <tbody>\n    <tr>\n      <th>1</th>\n      <td>EFTO2019080100001002</td>\n      <td>2019-08-01</td>\n      <td>EFTO</td>\n      <td>30-Jul-19</td>\n      <td>153443</td>\n      <td>10000.0</td>\n      <td>CAD</td>\n      <td>2456977</td>\n      <td>2019-07</td>\n      <td>10000</td>\n    </tr>\n    <tr>\n      <th>2</th>\n      <td>EFTO2019080100001003</td>\n      <td>2019-08-01</td>\n      <td>EFTO</td>\n      <td>31-Jul-19</td>\n      <td>132351</td>\n      <td>23690.0</td>\n      <td>USD</td>\n      <td>3182054</td>\n      <td>2019-07</td>\n      <td>23690</td>\n    </tr>\n    <tr>\n      <th>3</th>\n      <td>EFTO2019080200001001</td>\n      <td>2019-08-02</td>\n      <td>EFTO</td>\n      <td>01-Aug-19</td>\n      <td>154452</td>\n      <td>20000.0</td>\n      <td>CAD</td>\n      <td>3193091</td>\n      <td>2019-08</td>\n      <td>20000</td>\n    </tr>\n    <tr>\n      <th>4</th>\n      <td>EFTO2019080600001001</td>\n      <td>2019-08-06</td>\n      <td>EFTO</td>\n      <td>02-Aug-19</td>\n      <td>134746</td>\n      <td>33436.0</td>\n      <td>CAD</td>\n      <td>2911297</td>\n      <td>2019-08</td>\n      <td>33436</td>\n    </tr>\n    <tr>\n      <th>5</th>\n      <td>EFTO2019080600001002</td>\n      <td>2019-08-06</td>\n      <td>EFTO</td>\n      <td>02-Aug-19</td>\n      <td>135350</td>\n      <td>22000.0</td>\n      <td>CAD</td>\n      <td>2621260</td>\n      <td>2019-08</td>\n      <td>22000</td>\n    </tr>\n  </tbody>\n</table>\n</div>"
          },
          "metadata": {}
        }
      ],
      "execution_count": 25
    },
    {
      "cell_type": "code",
      "source": "eft[eft['CIF']==3182054\t]",
      "metadata": {
        "trusted": true
      },
      "outputs": [
        {
          "execution_count": 195,
          "output_type": "execute_result",
          "data": {
            "text/plain": "            CIF EFFECTIVE_DATE  TRANSACTION_AMOUNT TRANSACTION_CODE  \\\n123017  3182054      13-Aug-20             -5000.0               DM   \n\n       TRANSACTION_DECRIPTION  TIME_SEQ  Tran Amt  Tran Amt_round  \n123017     International Wire  14:06:45    5000.0            5000  ",
            "text/html": "<div>\n<style scoped>\n    .dataframe tbody tr th:only-of-type {\n        vertical-align: middle;\n    }\n\n    .dataframe tbody tr th {\n        vertical-align: top;\n    }\n\n    .dataframe thead th {\n        text-align: right;\n    }\n</style>\n<table border=\"1\" class=\"dataframe\">\n  <thead>\n    <tr style=\"text-align: right;\">\n      <th></th>\n      <th>CIF</th>\n      <th>EFFECTIVE_DATE</th>\n      <th>TRANSACTION_AMOUNT</th>\n      <th>TRANSACTION_CODE</th>\n      <th>TRANSACTION_DECRIPTION</th>\n      <th>TIME_SEQ</th>\n      <th>Tran Amt</th>\n      <th>Tran Amt_round</th>\n    </tr>\n  </thead>\n  <tbody>\n    <tr>\n      <th>123017</th>\n      <td>3182054</td>\n      <td>13-Aug-20</td>\n      <td>-5000.0</td>\n      <td>DM</td>\n      <td>International Wire</td>\n      <td>14:06:45</td>\n      <td>5000.0</td>\n      <td>5000</td>\n    </tr>\n  </tbody>\n</table>\n</div>"
          },
          "metadata": {}
        }
      ],
      "execution_count": 195
    },
    {
      "cell_type": "code",
      "source": "len(fintrac_time)",
      "metadata": {
        "trusted": true
      },
      "outputs": [
        {
          "execution_count": 197,
          "output_type": "execute_result",
          "data": {
            "text/plain": "43"
          },
          "metadata": {}
        }
      ],
      "execution_count": 197
    },
    {
      "cell_type": "markdown",
      "source": "<h2> Use left outer join",
      "metadata": {}
    },
    {
      "cell_type": "code",
      "source": "fintrac['Tran Date']=pd.to_datetime(fintrac['Tran Date']).apply(lambda x: x.strftime('%d-%b-%y'))\nfintrac['Tran Amt_round']=fintrac['Tran Amt'].apply(math.ceil)",
      "metadata": {
        "trusted": true
      },
      "outputs": [],
      "execution_count": 26
    },
    {
      "cell_type": "code",
      "source": "fintrac['Tran Amt_round']",
      "metadata": {
        "trusted": true
      },
      "outputs": [
        {
          "execution_count": 7,
          "output_type": "execute_result",
          "data": {
            "text/plain": "0      28000\n1      10000\n2      23690\n3      20000\n4      33436\n       ...  \n862    20433\n863    32574\n864     4914\n865    60000\n866    20200\nName: Tran Amt_round, Length: 867, dtype: int64"
          },
          "metadata": {}
        }
      ],
      "execution_count": 7
    },
    {
      "cell_type": "code",
      "source": "eft_col=['CIF','EFFECTIVE_DATE','Tran Amt_round']\neft=eft[eft_col]",
      "metadata": {
        "trusted": true
      },
      "outputs": [],
      "execution_count": 27
    },
    {
      "cell_type": "code",
      "source": "eft.columns=['Client ID','Tran Date','Tran Amt_round']",
      "metadata": {
        "trusted": true
      },
      "outputs": [],
      "execution_count": 28
    },
    {
      "cell_type": "code",
      "source": "dups=eft.duplicated()\neft_unique=eft[~dups]",
      "metadata": {
        "trusted": true
      },
      "outputs": [],
      "execution_count": 29
    },
    {
      "cell_type": "code",
      "source": "fin_eft=pd.merge(fintrac[['Client ID','Tran Date','Tran Amt_round']],eft_unique,how=\"left\",on=['Client ID','Tran Date','Tran Amt_round'],indicator=True)",
      "metadata": {
        "trusted": true
      },
      "outputs": [],
      "execution_count": 30
    },
    {
      "cell_type": "code",
      "source": "fin_sub=fin_eft[fin_eft['_merge']==\"left_only\"]",
      "metadata": {
        "trusted": true
      },
      "outputs": [],
      "execution_count": 31
    },
    {
      "cell_type": "code",
      "source": "def include(x):\n    if x==\"both\":\n        return True\n    else:\n        return False\n        ",
      "metadata": {
        "trusted": true
      },
      "outputs": [],
      "execution_count": 32
    },
    {
      "cell_type": "code",
      "source": "y=fin_eft['_merge'].apply(lambda x: include(x))\nfin_eft['include']=y",
      "metadata": {
        "trusted": true
      },
      "outputs": [],
      "execution_count": 33
    },
    {
      "cell_type": "code",
      "source": "fin_sub=fintrac[~y]",
      "metadata": {
        "trusted": true
      },
      "outputs": [],
      "execution_count": 34
    },
    {
      "cell_type": "code",
      "source": "len(fin_sub)",
      "metadata": {
        "trusted": true
      },
      "outputs": [
        {
          "execution_count": 35,
          "output_type": "execute_result",
          "data": {
            "text/plain": "457"
          },
          "metadata": {}
        }
      ],
      "execution_count": 35
    },
    {
      "cell_type": "code",
      "source": "fin_sub.to_csv(\"FINTRAC 2.csv\")",
      "metadata": {
        "trusted": true
      },
      "outputs": [],
      "execution_count": 243
    },
    {
      "cell_type": "markdown",
      "source": "<h2> Timeliness",
      "metadata": {}
    },
    {
      "cell_type": "code",
      "source": "fintrac['Filing Date']=pd.to_datetime(fintrac['Filing Date']).apply(lambda x: x.strftime('%d-%b-%y'))",
      "metadata": {
        "trusted": true
      },
      "outputs": [],
      "execution_count": 12
    },
    {
      "cell_type": "code",
      "source": "fintrac['Filing Date']=pd.to_datetime(fintrac['Filing Date'])\nfintrac['Tran Date']=pd.to_datetime(fintrac['Tran Date'])",
      "metadata": {
        "trusted": true
      },
      "outputs": [],
      "execution_count": 13
    },
    {
      "cell_type": "code",
      "source": "t=fintrac['Filing Date']-fintrac['Tran Date']",
      "metadata": {
        "trusted": true
      },
      "outputs": [],
      "execution_count": 14
    },
    {
      "cell_type": "code",
      "source": "t=pd.DataFrame(t,columns=['Time_diff'])",
      "metadata": {
        "trusted": true
      },
      "outputs": [],
      "execution_count": 15
    },
    {
      "cell_type": "code",
      "source": "sns.histplot(t['Time_diff'].astype('timedelta64[D]'),color=\"green\")",
      "metadata": {
        "trusted": true
      },
      "outputs": [
        {
          "execution_count": 313,
          "output_type": "execute_result",
          "data": {
            "text/plain": "<AxesSubplot:xlabel='Time_diff', ylabel='Count'>"
          },
          "metadata": {}
        },
        {
          "output_type": "display_data",
          "data": {
            "text/plain": "<Figure size 640x480 with 1 Axes>",
            "image/png": "[encoded data removed]"
          },
          "metadata": {}
        }
      ],
      "execution_count": 313
    },
    {
      "cell_type": "code",
      "source": "Reporting=t.value_counts().rename_axis('time_diff').to_frame('counts')",
      "metadata": {
        "trusted": true
      },
      "outputs": [],
      "execution_count": 16
    },
    {
      "cell_type": "code",
      "source": "Reporting",
      "metadata": {
        "trusted": true
      },
      "outputs": [
        {
          "execution_count": 17,
          "output_type": "execute_result",
          "data": {
            "text/plain": "           counts\ntime_diff        \n2 days        219\n1 days        187\n4 days        143\n5 days        102\n3 days         95\n6 days         49\n7 days         28\n8 days         16\n0 days         10\n10 days         6\n11 days         3\n9 days          2\n13 days         2\n14 days         2\n12 days         1\n22 days         1\n34 days         1",
            "text/html": "<div>\n<style scoped>\n    .dataframe tbody tr th:only-of-type {\n        vertical-align: middle;\n    }\n\n    .dataframe tbody tr th {\n        vertical-align: top;\n    }\n\n    .dataframe thead th {\n        text-align: right;\n    }\n</style>\n<table border=\"1\" class=\"dataframe\">\n  <thead>\n    <tr style=\"text-align: right;\">\n      <th></th>\n      <th>counts</th>\n    </tr>\n    <tr>\n      <th>time_diff</th>\n      <th></th>\n    </tr>\n  </thead>\n  <tbody>\n    <tr>\n      <th>2 days</th>\n      <td>219</td>\n    </tr>\n    <tr>\n      <th>1 days</th>\n      <td>187</td>\n    </tr>\n    <tr>\n      <th>4 days</th>\n      <td>143</td>\n    </tr>\n    <tr>\n      <th>5 days</th>\n      <td>102</td>\n    </tr>\n    <tr>\n      <th>3 days</th>\n      <td>95</td>\n    </tr>\n    <tr>\n      <th>6 days</th>\n      <td>49</td>\n    </tr>\n    <tr>\n      <th>7 days</th>\n      <td>28</td>\n    </tr>\n    <tr>\n      <th>8 days</th>\n      <td>16</td>\n    </tr>\n    <tr>\n      <th>0 days</th>\n      <td>10</td>\n    </tr>\n    <tr>\n      <th>10 days</th>\n      <td>6</td>\n    </tr>\n    <tr>\n      <th>11 days</th>\n      <td>3</td>\n    </tr>\n    <tr>\n      <th>9 days</th>\n      <td>2</td>\n    </tr>\n    <tr>\n      <th>13 days</th>\n      <td>2</td>\n    </tr>\n    <tr>\n      <th>14 days</th>\n      <td>2</td>\n    </tr>\n    <tr>\n      <th>12 days</th>\n      <td>1</td>\n    </tr>\n    <tr>\n      <th>22 days</th>\n      <td>1</td>\n    </tr>\n    <tr>\n      <th>34 days</th>\n      <td>1</td>\n    </tr>\n  </tbody>\n</table>\n</div>"
          },
          "metadata": {}
        }
      ],
      "execution_count": 17
    },
    {
      "cell_type": "code",
      "source": "timely=t.le(pd.Timedelta(days=0)).all(1)",
      "metadata": {
        "trusted": true
      },
      "outputs": [],
      "execution_count": 323
    },
    {
      "cell_type": "code",
      "source": "fintrac_timely=fintrac[timely]\nfintrac_timely",
      "metadata": {
        "trusted": true,
        "scrolled": true
      },
      "outputs": [
        {
          "execution_count": 325,
          "output_type": "execute_result",
          "data": {
            "text/plain": "               Report Ref Filing Date Report Type  Tran Date  Tran Time  \\\n20   EFTO2019081500001002  2019-08-15        EFTO 2019-08-15     140030   \n350  EFTO2020011400001002  2020-01-14        EFTO 2020-01-14     104242   \n388  EFTO2020012400001004  2020-01-24        EFTO 2020-01-24     104252   \n434  EFTO2020021300002001  2020-02-13        EFTO 2020-02-13     135050   \n479  EFTO2020030400001002  2020-03-04        EFTO 2020-03-04     104806   \n500  EFTO2020031200001002  2020-03-12        EFTO 2020-03-12     134649   \n574  EFTO2020042400001001  2020-04-24        EFTO 2020-04-24     154819   \n634  EFTO2020060300002001  2020-06-03        EFTO 2020-06-03     105004   \n640  EFTO2020060800001001  2020-06-08        EFTO 2020-06-08     135845   \n758  EFTO2020080600002001  2020-08-06        EFTO 2020-08-06     110310   \n\n     Tran Amt Tran Cur  Client ID Month-Year  \n20   205577.0      CAD    3167108    2019-08  \n350   35000.0      CAD    2624482    2020-01  \n388   10000.0      CAD    2003886    2020-01  \n434   10000.0      CAD    2935186    2020-02  \n479  108000.0      CAD    3088309    2020-03  \n500  100000.0      CAD    2946417    2020-03  \n574  260000.0      CAD    3267278    2020-04  \n634   15000.0      CAD    2935186    2020-06  \n640   13000.0      CAD    3267278    2020-06  \n758   25000.0      CAD    3104849    2020-08  ",
            "text/html": "<div>\n<style scoped>\n    .dataframe tbody tr th:only-of-type {\n        vertical-align: middle;\n    }\n\n    .dataframe tbody tr th {\n        vertical-align: top;\n    }\n\n    .dataframe thead th {\n        text-align: right;\n    }\n</style>\n<table border=\"1\" class=\"dataframe\">\n  <thead>\n    <tr style=\"text-align: right;\">\n      <th></th>\n      <th>Report Ref</th>\n      <th>Filing Date</th>\n      <th>Report Type</th>\n      <th>Tran Date</th>\n      <th>Tran Time</th>\n      <th>Tran Amt</th>\n      <th>Tran Cur</th>\n      <th>Client ID</th>\n      <th>Month-Year</th>\n    </tr>\n  </thead>\n  <tbody>\n    <tr>\n      <th>20</th>\n      <td>EFTO2019081500001002</td>\n      <td>2019-08-15</td>\n      <td>EFTO</td>\n      <td>2019-08-15</td>\n      <td>140030</td>\n      <td>205577.0</td>\n      <td>CAD</td>\n      <td>3167108</td>\n      <td>2019-08</td>\n    </tr>\n    <tr>\n      <th>350</th>\n      <td>EFTO2020011400001002</td>\n      <td>2020-01-14</td>\n      <td>EFTO</td>\n      <td>2020-01-14</td>\n      <td>104242</td>\n      <td>35000.0</td>\n      <td>CAD</td>\n      <td>2624482</td>\n      <td>2020-01</td>\n    </tr>\n    <tr>\n      <th>388</th>\n      <td>EFTO2020012400001004</td>\n      <td>2020-01-24</td>\n      <td>EFTO</td>\n      <td>2020-01-24</td>\n      <td>104252</td>\n      <td>10000.0</td>\n      <td>CAD</td>\n      <td>2003886</td>\n      <td>2020-01</td>\n    </tr>\n    <tr>\n      <th>434</th>\n      <td>EFTO2020021300002001</td>\n      <td>2020-02-13</td>\n      <td>EFTO</td>\n      <td>2020-02-13</td>\n      <td>135050</td>\n      <td>10000.0</td>\n      <td>CAD</td>\n      <td>2935186</td>\n      <td>2020-02</td>\n    </tr>\n    <tr>\n      <th>479</th>\n      <td>EFTO2020030400001002</td>\n      <td>2020-03-04</td>\n      <td>EFTO</td>\n      <td>2020-03-04</td>\n      <td>104806</td>\n      <td>108000.0</td>\n      <td>CAD</td>\n      <td>3088309</td>\n      <td>2020-03</td>\n    </tr>\n    <tr>\n      <th>500</th>\n      <td>EFTO2020031200001002</td>\n      <td>2020-03-12</td>\n      <td>EFTO</td>\n      <td>2020-03-12</td>\n      <td>134649</td>\n      <td>100000.0</td>\n      <td>CAD</td>\n      <td>2946417</td>\n      <td>2020-03</td>\n    </tr>\n    <tr>\n      <th>574</th>\n      <td>EFTO2020042400001001</td>\n      <td>2020-04-24</td>\n      <td>EFTO</td>\n      <td>2020-04-24</td>\n      <td>154819</td>\n      <td>260000.0</td>\n      <td>CAD</td>\n      <td>3267278</td>\n      <td>2020-04</td>\n    </tr>\n    <tr>\n      <th>634</th>\n      <td>EFTO2020060300002001</td>\n      <td>2020-06-03</td>\n      <td>EFTO</td>\n      <td>2020-06-03</td>\n      <td>105004</td>\n      <td>15000.0</td>\n      <td>CAD</td>\n      <td>2935186</td>\n      <td>2020-06</td>\n    </tr>\n    <tr>\n      <th>640</th>\n      <td>EFTO2020060800001001</td>\n      <td>2020-06-08</td>\n      <td>EFTO</td>\n      <td>2020-06-08</td>\n      <td>135845</td>\n      <td>13000.0</td>\n      <td>CAD</td>\n      <td>3267278</td>\n      <td>2020-06</td>\n    </tr>\n    <tr>\n      <th>758</th>\n      <td>EFTO2020080600002001</td>\n      <td>2020-08-06</td>\n      <td>EFTO</td>\n      <td>2020-08-06</td>\n      <td>110310</td>\n      <td>25000.0</td>\n      <td>CAD</td>\n      <td>3104849</td>\n      <td>2020-08</td>\n    </tr>\n  </tbody>\n</table>\n</div>"
          },
          "metadata": {}
        }
      ],
      "execution_count": 325
    }
  ]
}